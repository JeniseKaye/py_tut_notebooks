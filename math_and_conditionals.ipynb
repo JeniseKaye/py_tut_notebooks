{
 "cells": [
  {
   "cell_type": "code",
   "id": "initial_id",
   "metadata": {
    "collapsed": true,
    "ExecuteTime": {
     "end_time": "2025-03-10T23:32:19.531666Z",
     "start_time": "2025-03-10T23:32:19.526515Z"
    }
   },
   "source": "6 + 6",
   "outputs": [
    {
     "data": {
      "text/plain": [
       "12"
      ]
     },
     "execution_count": 1,
     "metadata": {},
     "output_type": "execute_result"
    }
   ],
   "execution_count": 1
  },
  {
   "metadata": {},
   "cell_type": "markdown",
   "source": [
    "You can do basic math in Jupyter notebooks. You can also use the `+`, `-`, `*`, and `/` operators.\n",
    "you can also exponent with '**' operator and modulo with '%' operator.\n",
    "and intger division with '//' operator."
   ],
   "id": "acab33a85e954635"
  },
  {
   "metadata": {
    "ExecuteTime": {
     "end_time": "2025-03-10T23:33:34.499868Z",
     "start_time": "2025-03-10T23:33:34.491893Z"
    }
   },
   "cell_type": "code",
   "source": "5 ** 2",
   "id": "327f31983e0cd70a",
   "outputs": [
    {
     "data": {
      "text/plain": [
       "25"
      ]
     },
     "execution_count": 2,
     "metadata": {},
     "output_type": "execute_result"
    }
   ],
   "execution_count": 2
  },
  {
   "metadata": {
    "ExecuteTime": {
     "end_time": "2025-03-10T23:33:44.183878Z",
     "start_time": "2025-03-10T23:33:44.179452Z"
    }
   },
   "cell_type": "code",
   "source": "3 ** 4",
   "id": "e7db517e3c15c109",
   "outputs": [
    {
     "data": {
      "text/plain": [
       "81"
      ]
     },
     "execution_count": 3,
     "metadata": {},
     "output_type": "execute_result"
    }
   ],
   "execution_count": 3
  },
  {
   "metadata": {},
   "cell_type": "markdown",
   "source": "Modulo operator returns the remainder of the division.",
   "id": "c189886f7c8f59cf"
  },
  {
   "metadata": {
    "ExecuteTime": {
     "end_time": "2025-03-10T23:34:54.990822Z",
     "start_time": "2025-03-10T23:34:54.984717Z"
    }
   },
   "cell_type": "code",
   "source": "5 % 2",
   "id": "9ba77bd740ba373e",
   "outputs": [
    {
     "data": {
      "text/plain": [
       "1"
      ]
     },
     "execution_count": 4,
     "metadata": {},
     "output_type": "execute_result"
    }
   ],
   "execution_count": 4
  },
  {
   "metadata": {
    "ExecuteTime": {
     "end_time": "2025-03-10T23:35:40.905119Z",
     "start_time": "2025-03-10T23:35:40.900326Z"
    }
   },
   "cell_type": "code",
   "source": "6 % 3",
   "id": "bf35deca6ad97609",
   "outputs": [
    {
     "data": {
      "text/plain": [
       "0"
      ]
     },
     "execution_count": 5,
     "metadata": {},
     "output_type": "execute_result"
    }
   ],
   "execution_count": 5
  },
  {
   "metadata": {},
   "cell_type": "markdown",
   "source": "if m % n is 0, then m is divisible by n.",
   "id": "c7fce76cf80c5ea3"
  },
  {
   "metadata": {
    "ExecuteTime": {
     "end_time": "2025-03-10T23:36:45.088089Z",
     "start_time": "2025-03-10T23:36:45.084195Z"
    }
   },
   "cell_type": "code",
   "source": "5 // 2",
   "id": "8cb3dd1e1bcfc35c",
   "outputs": [
    {
     "data": {
      "text/plain": [
       "2"
      ]
     },
     "execution_count": 6,
     "metadata": {},
     "output_type": "execute_result"
    }
   ],
   "execution_count": 6
  },
  {
   "metadata": {},
   "cell_type": "markdown",
   "source": "Conditonals are used to make decisions. If a condition is true, then do something. If it is false, then do something else.",
   "id": "f112f196807ca8ce"
  },
  {
   "metadata": {},
   "cell_type": "markdown",
   "source": [
    "- \">\" Greater\n",
    "- \"<\" Less than\n",
    "- \">=\" Greater than or equal to\n",
    "- \"<=\" Less than or equal to\n",
    "- \"==\" Equal to\n",
    "- \"!=\" Not equal to\n"
   ],
   "id": "20053b71b20a2e64"
  },
  {
   "metadata": {
    "ExecuteTime": {
     "end_time": "2025-03-10T23:46:55.282701Z",
     "start_time": "2025-03-10T23:46:55.267854Z"
    }
   },
   "cell_type": "code",
   "source": "5 < 6",
   "id": "1441cf867938a50b",
   "outputs": [
    {
     "data": {
      "text/plain": [
       "True"
      ]
     },
     "execution_count": 7,
     "metadata": {},
     "output_type": "execute_result"
    }
   ],
   "execution_count": 7
  },
  {
   "metadata": {
    "ExecuteTime": {
     "end_time": "2025-03-10T23:48:55.653209Z",
     "start_time": "2025-03-10T23:48:55.648901Z"
    }
   },
   "cell_type": "code",
   "source": "\"5\" == 5",
   "id": "83e809e70a648ae6",
   "outputs": [
    {
     "data": {
      "text/plain": [
       "False"
      ]
     },
     "execution_count": 8,
     "metadata": {},
     "output_type": "execute_result"
    }
   ],
   "execution_count": 8
  },
  {
   "metadata": {},
   "cell_type": "markdown",
   "source": "- the String of a number is not equal to the number itself.",
   "id": "1ea3739789b2cd72"
  },
  {
   "metadata": {},
   "cell_type": "code",
   "outputs": [],
   "execution_count": null,
   "source": "",
   "id": "f58563dc029e01be"
  },
  {
   "metadata": {},
   "cell_type": "markdown",
   "source": [
    "#### And, Or, Not\n",
    "- And: Both conditions must be true.\n",
    "\n",
    "True and True = True |\n",
    "True and False = False |\n",
    "False and True = False |\n",
    "False and False = False |"
   ],
   "id": "9d565a9ba6d4bb2"
  },
  {
   "metadata": {
    "ExecuteTime": {
     "end_time": "2025-03-10T23:54:27.896092Z",
     "start_time": "2025-03-10T23:54:27.886066Z"
    }
   },
   "cell_type": "code",
   "source": "6 > 7 and 7 > 8",
   "id": "bb2991bfb89cd419",
   "outputs": [
    {
     "data": {
      "text/plain": [
       "False"
      ]
     },
     "execution_count": 9,
     "metadata": {},
     "output_type": "execute_result"
    }
   ],
   "execution_count": 9
  },
  {
   "metadata": {
    "ExecuteTime": {
     "end_time": "2025-03-10T23:55:34.562940Z",
     "start_time": "2025-03-10T23:55:34.560354Z"
    }
   },
   "cell_type": "code",
   "source": "6 == 7 and 8 > 7",
   "id": "d2a6de99cc6697ef",
   "outputs": [
    {
     "data": {
      "text/plain": [
       "False"
      ]
     },
     "execution_count": 10,
     "metadata": {},
     "output_type": "execute_result"
    }
   ],
   "execution_count": 10
  },
  {
   "metadata": {
    "ExecuteTime": {
     "end_time": "2025-03-10T23:56:31.367991Z",
     "start_time": "2025-03-10T23:56:31.362464Z"
    }
   },
   "cell_type": "code",
   "source": "7 != 8 and 8 > 7",
   "id": "1574da847fd06ef8",
   "outputs": [
    {
     "data": {
      "text/plain": [
       "True"
      ]
     },
     "execution_count": 11,
     "metadata": {},
     "output_type": "execute_result"
    }
   ],
   "execution_count": 11
  },
  {
   "metadata": {},
   "cell_type": "markdown",
   "source": [
    "Or Statements\n",
    "- Only one condition must be true.\n",
    "\n",
    "True or True = True |\n",
    "True or False = True |\n",
    "False or True = True |\n",
    "False or False = False |"
   ],
   "id": "8e8cd4d63912ad19"
  },
  {
   "metadata": {
    "ExecuteTime": {
     "end_time": "2025-03-10T23:58:59.184995Z",
     "start_time": "2025-03-10T23:58:59.181434Z"
    }
   },
   "cell_type": "code",
   "source": "6 == 9 or 9 > 8",
   "id": "4433294be849b36f",
   "outputs": [
    {
     "data": {
      "text/plain": [
       "True"
      ]
     },
     "execution_count": 12,
     "metadata": {},
     "output_type": "execute_result"
    }
   ],
   "execution_count": 12
  },
  {
   "metadata": {
    "ExecuteTime": {
     "end_time": "2025-03-10T23:59:50.482001Z",
     "start_time": "2025-03-10T23:59:50.479506Z"
    }
   },
   "cell_type": "code",
   "source": "6 != 9 or 9 > 8",
   "id": "56cf096d092903c0",
   "outputs": [
    {
     "data": {
      "text/plain": [
       "True"
      ]
     },
     "execution_count": 13,
     "metadata": {},
     "output_type": "execute_result"
    }
   ],
   "execution_count": 13
  },
  {
   "metadata": {
    "ExecuteTime": {
     "end_time": "2025-03-11T00:00:40.036405Z",
     "start_time": "2025-03-11T00:00:40.029765Z"
    }
   },
   "cell_type": "code",
   "source": "5 == 7 or 7 > 8 or 8 == 8",
   "id": "408aa7ccb3bc6eaa",
   "outputs": [
    {
     "data": {
      "text/plain": [
       "True"
      ]
     },
     "execution_count": 14,
     "metadata": {},
     "output_type": "execute_result"
    }
   ],
   "execution_count": 14
  },
  {
   "metadata": {
    "ExecuteTime": {
     "end_time": "2025-03-11T00:01:59.305441Z",
     "start_time": "2025-03-11T00:01:59.302565Z"
    }
   },
   "cell_type": "code",
   "source": "5 == 5 and 5 == 6 and 6 == 6",
   "id": "7ba4af892103a9e3",
   "outputs": [
    {
     "data": {
      "text/plain": [
       "False"
      ]
     },
     "execution_count": 16,
     "metadata": {},
     "output_type": "execute_result"
    }
   ],
   "execution_count": 16
  },
  {
   "metadata": {},
   "cell_type": "markdown",
   "source": [
    "- True and False (And)\n",
    "- False or True (Or\n",
    "- True"
   ],
   "id": "38215adcad2d0bf"
  },
  {
   "metadata": {
    "ExecuteTime": {
     "end_time": "2025-03-11T00:03:39.646790Z",
     "start_time": "2025-03-11T00:03:39.640672Z"
    }
   },
   "cell_type": "code",
   "source": "6 == 6 and 5 != 5 or 5 == 5",
   "id": "cf0d0083dc76fee7",
   "outputs": [
    {
     "data": {
      "text/plain": [
       "True"
      ]
     },
     "execution_count": 17,
     "metadata": {},
     "output_type": "execute_result"
    }
   ],
   "execution_count": 17
  },
  {
   "metadata": {},
   "cell_type": "code",
   "outputs": [],
   "execution_count": null,
   "source": "",
   "id": "761004b493ac354f"
  }
 ],
 "metadata": {
  "kernelspec": {
   "display_name": "Python 3",
   "language": "python",
   "name": "python3"
  },
  "language_info": {
   "codemirror_mode": {
    "name": "ipython",
    "version": 2
   },
   "file_extension": ".py",
   "mimetype": "text/x-python",
   "name": "python",
   "nbconvert_exporter": "python",
   "pygments_lexer": "ipython2",
   "version": "2.7.6"
  }
 },
 "nbformat": 4,
 "nbformat_minor": 5
}
