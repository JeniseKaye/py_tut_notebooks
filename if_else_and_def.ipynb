{
 "cells": [
  {
   "cell_type": "code",
   "id": "initial_id",
   "metadata": {
    "collapsed": true,
    "ExecuteTime": {
     "end_time": "2025-03-11T00:06:19.973795Z",
     "start_time": "2025-03-11T00:06:19.969130Z"
    }
   },
   "source": [
    "num = 4\n",
    "\n",
    "if num % 2 == 0:\n",
    "    print(\"Even\")"
   ],
   "outputs": [
    {
     "name": "stdout",
     "output_type": "stream",
     "text": [
      "Even\n"
     ]
    }
   ],
   "execution_count": 2
  },
  {
   "metadata": {
    "ExecuteTime": {
     "end_time": "2025-03-11T00:06:32.688402Z",
     "start_time": "2025-03-11T00:06:32.684701Z"
    }
   },
   "cell_type": "code",
   "source": [
    "if 6 == 6:\n",
    "    print(\"Yes\")"
   ],
   "id": "4f895b667e00545f",
   "outputs": [
    {
     "name": "stdout",
     "output_type": "stream",
     "text": [
      "Yes\n"
     ]
    }
   ],
   "execution_count": 3
  },
  {
   "metadata": {
    "ExecuteTime": {
     "end_time": "2025-03-11T00:08:42.967377Z",
     "start_time": "2025-03-11T00:08:42.961872Z"
    }
   },
   "cell_type": "code",
   "source": [
    "grade = 77\n",
    "\n",
    "if grade >= 80:\n",
    "    print('Excellent')\n",
    "    print('Good Job')\n",
    "else:\n",
    "    print('Study Harder')"
   ],
   "id": "9a35a5d04e8129e1",
   "outputs": [
    {
     "name": "stdout",
     "output_type": "stream",
     "text": [
      "Study Harder\n"
     ]
    }
   ],
   "execution_count": 4
  },
  {
   "metadata": {},
   "cell_type": "markdown",
   "source": [
    "- if\n",
    "- elif\n",
    "- elif\n",
    "- elif\n",
    "- else"
   ],
   "id": "484c546dd1e66f4"
  },
  {
   "metadata": {
    "ExecuteTime": {
     "end_time": "2025-03-11T00:11:49.715293Z",
     "start_time": "2025-03-11T00:11:49.707283Z"
    }
   },
   "cell_type": "code",
   "source": [
    "if grade >= 90:\n",
    "    print('A')\n",
    "elif grade >= 80:\n",
    "    print('B')\n",
    "elif grade >= 70:\n",
    "    print('C')\n",
    "elif grade >= 60:\n",
    "    print('D')\n",
    "else:\n",
    "    print('F')"
   ],
   "id": "9cfe58055b3b46bd",
   "outputs": [
    {
     "name": "stdout",
     "output_type": "stream",
     "text": [
      "C\n"
     ]
    }
   ],
   "execution_count": 5
  },
  {
   "metadata": {},
   "cell_type": "code",
   "outputs": [],
   "execution_count": null,
   "source": "",
   "id": "4a22f80940c9f93b"
  }
 ],
 "metadata": {
  "kernelspec": {
   "display_name": "Python 3",
   "language": "python",
   "name": "python3"
  },
  "language_info": {
   "codemirror_mode": {
    "name": "ipython",
    "version": 2
   },
   "file_extension": ".py",
   "mimetype": "text/x-python",
   "name": "python",
   "nbconvert_exporter": "python",
   "pygments_lexer": "ipython2",
   "version": "2.7.6"
  }
 },
 "nbformat": 4,
 "nbformat_minor": 5
}
